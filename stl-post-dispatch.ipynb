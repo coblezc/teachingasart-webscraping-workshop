{
 "cells": [
  {
   "cell_type": "code",
   "execution_count": 1,
   "metadata": {},
   "outputs": [],
   "source": [
    "from bs4 import BeautifulSoup\n",
    "import urllib"
   ]
  },
  {
   "cell_type": "code",
   "execution_count": 2,
   "metadata": {},
   "outputs": [],
   "source": [
    "start_url = 'http://www.stltoday.com/search/?f=html&q=michael+brown+ferguson&d1=365+days+ago&s=start_time&sd=desc&l=25&t=article%2Ccollection%2Cvideo%2Cyoutube&nsa=eedition'"
   ]
  },
  {
   "cell_type": "code",
   "execution_count": 3,
   "metadata": {},
   "outputs": [],
   "source": [
    "def get_results(url):\n",
    "\n",
    "    html = urllib.urlopen(url).read()\n",
    "\n",
    "    soup = BeautifulSoup(html, 'html.parser')\n",
    "\n",
    "    titles = soup.select('.card-headline' )\n",
    "    # print titles\n",
    "\n",
    "    for title in titles:\n",
    "    \t# print title\n",
    "    \ttitle = title.text.encode('utf8')\n",
    "    \tclean_title = title.strip()\n",
    "    \tprint clean_title"
   ]
  },
  {
   "cell_type": "code",
   "execution_count": null,
   "metadata": {},
   "outputs": [],
   "source": [
    "get_results(start_url)"
   ]
  }
 ],
 "metadata": {
  "kernelspec": {
   "display_name": "Python 2",
   "language": "python",
   "name": "python2"
  },
  "language_info": {
   "codemirror_mode": {
    "name": "ipython",
    "version": 2
   },
   "file_extension": ".py",
   "mimetype": "text/x-python",
   "name": "python",
   "nbconvert_exporter": "python",
   "pygments_lexer": "ipython2",
   "version": "2.7.14"
  }
 },
 "nbformat": 4,
 "nbformat_minor": 2
}
