{
 "cells": [
  {
   "cell_type": "code",
   "execution_count": 1,
   "metadata": {},
   "outputs": [],
   "source": [
    "# source code from Sam Lavigne\n",
    "from bs4 import BeautifulSoup\n",
    "import urllib"
   ]
  },
  {
   "cell_type": "code",
   "execution_count": 2,
   "metadata": {},
   "outputs": [],
   "source": [
    "start_url = 'https://answers.search.yahoo.com/search;_ylt=AwrC2Q4kKxRYHgcAi3ZPmolQ;_ylc=X1MDMTM1MTE5NTIxNQRfcgMyBGZyA3VoM19hbnN3ZXJzX3ZlcnRfZ3MEZ3ByaWQDVG5YWlRfZjNRUWFLeWV5dE11MTVSQQRuX3JzbHQDMARuX3N1Z2cDNwRvcmlnaW4DYW5zd2Vycy5zZWFyY2gueWFob28uY29tBHBvcwMwBHBxc3RyAwRwcXN0cmwDBHFzdHJsAzMEcXVlcnkDbG9sBHRfc3RtcAMxNDc3NzE3MTc1?p=reincarnation&fr2=sb-top-answers.search&fr=uh3_answers_vert_gs&type=2button'"
   ]
  },
  {
   "cell_type": "code",
   "execution_count": 3,
   "metadata": {},
   "outputs": [],
   "source": [
    "def get_results(url):\n",
    "\n",
    "    html = urllib.urlopen(url).read()\n",
    "\n",
    "    soup = BeautifulSoup(html, 'html.parser')\n",
    "\n",
    "    titles = soup.select('.lh-17')\n",
    "\n",
    "    for title in titles:\n",
    "        print title.text.encode('utf8')\n",
    "\n",
    "    next_button = soup.select('a.next')\n",
    "    if len(next_button) > 0:\n",
    "        next_url = next_button[0].get('href')\n",
    "        get_results(next_url)"
   ]
  },
  {
   "cell_type": "code",
   "execution_count": null,
   "metadata": {},
   "outputs": [],
   "source": [
    "get_results(start_url)"
   ]
  }
 ],
 "metadata": {
  "kernelspec": {
   "display_name": "Python 2",
   "language": "python",
   "name": "python2"
  },
  "language_info": {
   "codemirror_mode": {
    "name": "ipython",
    "version": 2
   },
   "file_extension": ".py",
   "mimetype": "text/x-python",
   "name": "python",
   "nbconvert_exporter": "python",
   "pygments_lexer": "ipython2",
   "version": "2.7.14"
  }
 },
 "nbformat": 4,
 "nbformat_minor": 2
}
